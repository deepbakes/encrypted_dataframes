{
 "cells": [
  {
   "cell_type": "markdown",
   "id": "b4bcf738",
   "metadata": {},
   "source": [
    "### Configure Notebook"
   ]
  },
  {
   "cell_type": "markdown",
   "id": "7b97328f",
   "metadata": {},
   "source": [
    "#### Import Libraries"
   ]
  },
  {
   "cell_type": "code",
   "execution_count": 1,
   "id": "6d872760",
   "metadata": {},
   "outputs": [],
   "source": [
    "import base64\n",
    "from cryptography.fernet import Fernet\n",
    "from cryptography.hazmat.backends import default_backend\n",
    "from cryptography.hazmat.primitives import hashes\n",
    "from cryptography.hazmat.primitives.kdf.pbkdf2 import PBKDF2HMAC\n",
    "from io import BytesIO\n",
    "import pandas as pd\n",
    "import numpy as np"
   ]
  },
  {
   "cell_type": "markdown",
   "id": "85c28d4b",
   "metadata": {},
   "source": [
    "#### Define Functions"
   ]
  },
  {
   "cell_type": "code",
   "execution_count": 2,
   "id": "cc309e53",
   "metadata": {},
   "outputs": [],
   "source": [
    "def load_encrypted_dataset(encrypted_file, decryption_key_path):\n",
    "    ''' A function uses a decryption key to decrypt a file.\n",
    "\n",
    "    Parameters:\n",
    "    encrypted_file (str): The path to a file which has been encrypted.\n",
    "    decryption_key_path (str): The path to the corresponding decryption key.\n",
    "\n",
    "    Returns:\n",
    "    decrypted_dataset (Pandas DataFrame): A decrypted version of the encrypted file.\n",
    "    '''\n",
    "    \n",
    "    file = open(decryption_key_path, 'rb') # Open file.\n",
    "    decryption_key = file.read() # Read decryption key.\n",
    "    file.close() # Close file.\n",
    "       \n",
    "    fernet = Fernet(decryption_key)\n",
    "    \n",
    "    with open(encrypted_file, 'rb') as f:\n",
    "        encrypted_file = f.read()\n",
    "    \n",
    "    decrypted_file = fernet.decrypt(encrypted_file) # Decrypt file.\n",
    "    decrypted_dataset = pd.read_csv(BytesIO(decrypted_file), index_col=0) # Convert bytes data to Pandas DataFrame.\n",
    "    \n",
    "    return decrypted_dataset"
   ]
  },
  {
   "cell_type": "markdown",
   "id": "edb6e902",
   "metadata": {},
   "source": [
    "### Test"
   ]
  },
  {
   "cell_type": "markdown",
   "id": "3e85ed27",
   "metadata": {},
   "source": [
    "#### Generate Random Dataset"
   ]
  },
  {
   "cell_type": "code",
   "execution_count": 3,
   "id": "e6fb3b87",
   "metadata": {},
   "outputs": [
    {
     "data": {
      "text/html": [
       "<div>\n",
       "<style scoped>\n",
       "    .dataframe tbody tr th:only-of-type {\n",
       "        vertical-align: middle;\n",
       "    }\n",
       "\n",
       "    .dataframe tbody tr th {\n",
       "        vertical-align: top;\n",
       "    }\n",
       "\n",
       "    .dataframe thead th {\n",
       "        text-align: right;\n",
       "    }\n",
       "</style>\n",
       "<table border=\"1\" class=\"dataframe\">\n",
       "  <thead>\n",
       "    <tr style=\"text-align: right;\">\n",
       "      <th></th>\n",
       "      <th>A</th>\n",
       "      <th>B</th>\n",
       "      <th>C</th>\n",
       "      <th>D</th>\n",
       "    </tr>\n",
       "  </thead>\n",
       "  <tbody>\n",
       "    <tr>\n",
       "      <th>0</th>\n",
       "      <td>63</td>\n",
       "      <td>68</td>\n",
       "      <td>35</td>\n",
       "      <td>90</td>\n",
       "    </tr>\n",
       "    <tr>\n",
       "      <th>1</th>\n",
       "      <td>80</td>\n",
       "      <td>28</td>\n",
       "      <td>66</td>\n",
       "      <td>73</td>\n",
       "    </tr>\n",
       "    <tr>\n",
       "      <th>2</th>\n",
       "      <td>83</td>\n",
       "      <td>70</td>\n",
       "      <td>28</td>\n",
       "      <td>41</td>\n",
       "    </tr>\n",
       "    <tr>\n",
       "      <th>3</th>\n",
       "      <td>37</td>\n",
       "      <td>88</td>\n",
       "      <td>23</td>\n",
       "      <td>88</td>\n",
       "    </tr>\n",
       "    <tr>\n",
       "      <th>4</th>\n",
       "      <td>43</td>\n",
       "      <td>13</td>\n",
       "      <td>89</td>\n",
       "      <td>66</td>\n",
       "    </tr>\n",
       "    <tr>\n",
       "      <th>...</th>\n",
       "      <td>...</td>\n",
       "      <td>...</td>\n",
       "      <td>...</td>\n",
       "      <td>...</td>\n",
       "    </tr>\n",
       "    <tr>\n",
       "      <th>95</th>\n",
       "      <td>95</td>\n",
       "      <td>70</td>\n",
       "      <td>25</td>\n",
       "      <td>8</td>\n",
       "    </tr>\n",
       "    <tr>\n",
       "      <th>96</th>\n",
       "      <td>65</td>\n",
       "      <td>41</td>\n",
       "      <td>64</td>\n",
       "      <td>96</td>\n",
       "    </tr>\n",
       "    <tr>\n",
       "      <th>97</th>\n",
       "      <td>14</td>\n",
       "      <td>47</td>\n",
       "      <td>40</td>\n",
       "      <td>24</td>\n",
       "    </tr>\n",
       "    <tr>\n",
       "      <th>98</th>\n",
       "      <td>98</td>\n",
       "      <td>81</td>\n",
       "      <td>65</td>\n",
       "      <td>66</td>\n",
       "    </tr>\n",
       "    <tr>\n",
       "      <th>99</th>\n",
       "      <td>11</td>\n",
       "      <td>76</td>\n",
       "      <td>24</td>\n",
       "      <td>29</td>\n",
       "    </tr>\n",
       "  </tbody>\n",
       "</table>\n",
       "<p>100 rows × 4 columns</p>\n",
       "</div>"
      ],
      "text/plain": [
       "     A   B   C   D\n",
       "0   63  68  35  90\n",
       "1   80  28  66  73\n",
       "2   83  70  28  41\n",
       "3   37  88  23  88\n",
       "4   43  13  89  66\n",
       "..  ..  ..  ..  ..\n",
       "95  95  70  25   8\n",
       "96  65  41  64  96\n",
       "97  14  47  40  24\n",
       "98  98  81  65  66\n",
       "99  11  76  24  29\n",
       "\n",
       "[100 rows x 4 columns]"
      ]
     },
     "execution_count": 3,
     "metadata": {},
     "output_type": "execute_result"
    }
   ],
   "source": [
    "unsecure_df = pd.DataFrame(np.random.randint(0,100,size=(100, 4)), columns=list('ABCD'))\n",
    "\n",
    "unsecure_df.to_csv('unsecure.csv') # Export corrected dataset.\n",
    "\n",
    "unsecure_df"
   ]
  },
  {
   "cell_type": "markdown",
   "id": "8e7a0315",
   "metadata": {},
   "source": [
    "#### Generate Encryption Key"
   ]
  },
  {
   "cell_type": "code",
   "execution_count": 4,
   "id": "503728c7",
   "metadata": {},
   "outputs": [],
   "source": [
    "password_provided = 'password' # Provide password.\n",
    "password = password_provided.encode() # Encode password.\n",
    "\n",
    "salt = b\"randomsalt\" # Provide salt key.\n",
    "\n",
    "kdf = PBKDF2HMAC(algorithm=hashes.SHA256(),\n",
    "                length=32,\n",
    "                salt=salt,\n",
    "                iterations=100000,\n",
    "                backend=default_backend())\n",
    "\n",
    "key = base64.urlsafe_b64encode(kdf.derive(password))\n",
    "\n",
    "file = open(f'encryption_key.key', 'wb')\n",
    "file.write(key)\n",
    "file.close()"
   ]
  },
  {
   "cell_type": "markdown",
   "id": "0fa82e8d",
   "metadata": {},
   "source": [
    "#### Encrypt Dataset"
   ]
  },
  {
   "cell_type": "code",
   "execution_count": 5,
   "id": "54b8947d",
   "metadata": {},
   "outputs": [
    {
     "data": {
      "text/plain": [
       "b'gAAAAABh8DEW67ijVxmQ0N8Dl6ZStpg8oqiTQ1pORRGUKKBrE8_K9dpA-a4hAR1qybGRgLTcvbXdpPdQeP-Ize5Y66nio3fnFAuQPd6n1V-ZK4t4crzQSxgWTN7CMj7iND3DDGHC7aZzhczVtnKzHGrBV1UGOtG_JAXodVo2OXD1tf1ot2yFSk7aZpLeS4k9YG5-PRSEAPypo_Z4Xb98ah0NgWYJLhsBWukBX5iQKw1KoxKRxPXZnjSvtVkbkM8WqMIpRWgT_m2VX116qKFhkpKUXI8qEBVqWNzB1VioMcNUdY3_yNanzMGApv6Oi7z5IMOxuzAcGRaAtNe_UMVGk6vMW0ihn3o4BMxh0rcsktcwJ1GnDUGJPbmgk2HPboXfr2WvszqY-uOz2oUISQdO7TJAPIOc-WhNyBXkz7en0XFq0YWFh6r7AAFyRiAoEAx5yMcpqNSoW7lJxmp6M7NR3CIjojovBuDUKWmQbCt5oxnUrgWwNGZ-RctMmOQUY32HlcFI_8pXXr_KbdZDCP_v68lLVAcdUgp4Bpq5If03m-qj7uJ8zy0qEKIoLJ2Af-LriZev_tGf9zRrh8oqXIE5iyiFlWNk7VsAihC7Gb5Bf-1KF2vTQq5SbBvNPphpRU05Q2wpPcM9-GpM2GsY5z3v_7cOkTtTduOFX7fMFgVUnaTAcryRhLLRzZiH6krTVhLjAKvDAqai9DvoeAABDQuqwwXAl_C3VwvC0a_mJvN4xniNKzCTN700ZCsAdFBUsAc-5SSJZ0aG_dbStY--GbgIKmANQXnv7YEwWmReFkMlS1ztJgGmNTdoKLVvMFe7YWAdSchNgbNSbGYgzLjjg1Px4H7p8qJtrF_i2ooskU_x4Z37u0wEvddafpm2QINKnvrCIJdtbbGnhH-QzJG8GlmqqC9-u5Q-HqnOWf0uJBT5sSMvRkd2oWuZJQ_1UxmMf4TNXuzX4TBXkA0NQCUe1uMe2LGkI-t4X1FogyPu8a5pnsZNH1N-I1OxUPWpuycfpDJxjAzBfeJbqigUNxzU6G7UsRSAPiuMTOGP1b3YWHDHCKTpLKbhfA5Qcr4iOpENtrDWBEy69C8H8IubRMJxrsuGbAu3NOJm0UbsVirBAH1zb6pDzrtWecBOuUl49m46_VAoMIeAWf1t2N8dn3RiMR_ebV2dRWZzqYHuzTNcXSuoaaft49wNwghxRlenbVOCO3Fa2xo3zMW2rF4vYSJOP_y-1iHbizE-xoMRkbJxGxAbcXfCg6zybZbpO_LAkywyvT1i8OxthaAKkslwIxogbolgNFYstc3tibDM-5Zpj24oTY0P8Yt1oEibJgyJwvgeuE14FFBIuMFkR4CRPen4JW1P1QwybAUN6njUcn-cFP1m1vVSphg3XBUlyoC3qCIaWiW2lf_gCgdVcC-VcxRKqoP9Ottb23Tf63Gh8dR8t0J9YaK8tIfvF75fDGdczqmcJwxZF3l442IEQXBS_w41phiGbq_NGwtXEBf9Ezw1Bl1h-YvQIBbolpC8IN7J75d2Lcllpj5Xls5DE4b6E441fKwNrYI9b8EphW5ogqaGAOs8sWc-V5v9MWgZWR0zxKgyjiVypAAiy8hlbUgvgbtqiKFU6l-VpEzDb3nkGAVr8Gn8oQj0YE0UMngsADhE4Znm6-wf2LC4_5w_yYAsPIE_iDNuH87LZn07CrhBPqQExUsMTL3OISZlF9kjhXffNEGxW4H0BfzhKrW-Cla00gI936fyXx6-iu-NAXWwJr97mPk8w5Uc6xS0sE4VfAy4dEjrSN1Whqxy10PXbNBZXpltu4qVbDTv_D3CiKTEhFgu_S5pJ4s5_7Aepa2NXz0UHhwk9uQI2Mg1FLilS_Lzm6LeiHPeNDPK4tIMXaIv1LuhYOK-SrtcRXjbfD1MiRH7URd04ih_kMo86s8G0jhJc89Zt1Kz5K7zqhWSXWiaIwzJ-4dHI1z4JHKahH1IjWh7yagmBq0ZeGMXCXhg-TABQJrLJbRSyxBcl4sRCc4Yr-OLT9sgXjFE6ilu82EWJRzFRB_jjHRfJNHXjGAKF2j17qqya4ikbK91jUuIrQYxICT4Z8ISo4PQT433xpl2fjAG1yayFlkL9LxJecd7v0_sVNWECEZvK2WWBtTvI1lu80ntbe_-gw1i6UGLFblCtSv-JZvF4gAwAsf9_BQn5SVQ'"
      ]
     },
     "execution_count": 5,
     "metadata": {},
     "output_type": "execute_result"
    }
   ],
   "source": [
    "file = open(f'encryption_key.key', 'rb')\n",
    "key = file.read()\n",
    "file.close()\n",
    "\n",
    "# Open the file to encrypt\n",
    "with open(f'unsecure.csv', 'rb') as f: # open dataset file.\n",
    "    dataset = f.read()\n",
    "\n",
    "fernet = Fernet(key)\n",
    "encrypted_dataset = fernet.encrypt(dataset)\n",
    "\n",
    "# Write the encrypted file\n",
    "with open(f'secure.csv.encrypted', 'wb') as f: # Encrypt dataset csv file.\n",
    "    f.write(encrypted_dataset)\n",
    "    \n",
    "encrypted_dataset"
   ]
  },
  {
   "cell_type": "markdown",
   "id": "52bf34a0",
   "metadata": {},
   "source": [
    "#### Decrypt Dataset"
   ]
  },
  {
   "cell_type": "code",
   "execution_count": 6,
   "id": "4cf82330",
   "metadata": {},
   "outputs": [
    {
     "data": {
      "text/html": [
       "<div>\n",
       "<style scoped>\n",
       "    .dataframe tbody tr th:only-of-type {\n",
       "        vertical-align: middle;\n",
       "    }\n",
       "\n",
       "    .dataframe tbody tr th {\n",
       "        vertical-align: top;\n",
       "    }\n",
       "\n",
       "    .dataframe thead th {\n",
       "        text-align: right;\n",
       "    }\n",
       "</style>\n",
       "<table border=\"1\" class=\"dataframe\">\n",
       "  <thead>\n",
       "    <tr style=\"text-align: right;\">\n",
       "      <th></th>\n",
       "      <th>A</th>\n",
       "      <th>B</th>\n",
       "      <th>C</th>\n",
       "      <th>D</th>\n",
       "    </tr>\n",
       "  </thead>\n",
       "  <tbody>\n",
       "    <tr>\n",
       "      <th>0</th>\n",
       "      <td>63</td>\n",
       "      <td>68</td>\n",
       "      <td>35</td>\n",
       "      <td>90</td>\n",
       "    </tr>\n",
       "    <tr>\n",
       "      <th>1</th>\n",
       "      <td>80</td>\n",
       "      <td>28</td>\n",
       "      <td>66</td>\n",
       "      <td>73</td>\n",
       "    </tr>\n",
       "    <tr>\n",
       "      <th>2</th>\n",
       "      <td>83</td>\n",
       "      <td>70</td>\n",
       "      <td>28</td>\n",
       "      <td>41</td>\n",
       "    </tr>\n",
       "    <tr>\n",
       "      <th>3</th>\n",
       "      <td>37</td>\n",
       "      <td>88</td>\n",
       "      <td>23</td>\n",
       "      <td>88</td>\n",
       "    </tr>\n",
       "    <tr>\n",
       "      <th>4</th>\n",
       "      <td>43</td>\n",
       "      <td>13</td>\n",
       "      <td>89</td>\n",
       "      <td>66</td>\n",
       "    </tr>\n",
       "    <tr>\n",
       "      <th>...</th>\n",
       "      <td>...</td>\n",
       "      <td>...</td>\n",
       "      <td>...</td>\n",
       "      <td>...</td>\n",
       "    </tr>\n",
       "    <tr>\n",
       "      <th>95</th>\n",
       "      <td>95</td>\n",
       "      <td>70</td>\n",
       "      <td>25</td>\n",
       "      <td>8</td>\n",
       "    </tr>\n",
       "    <tr>\n",
       "      <th>96</th>\n",
       "      <td>65</td>\n",
       "      <td>41</td>\n",
       "      <td>64</td>\n",
       "      <td>96</td>\n",
       "    </tr>\n",
       "    <tr>\n",
       "      <th>97</th>\n",
       "      <td>14</td>\n",
       "      <td>47</td>\n",
       "      <td>40</td>\n",
       "      <td>24</td>\n",
       "    </tr>\n",
       "    <tr>\n",
       "      <th>98</th>\n",
       "      <td>98</td>\n",
       "      <td>81</td>\n",
       "      <td>65</td>\n",
       "      <td>66</td>\n",
       "    </tr>\n",
       "    <tr>\n",
       "      <th>99</th>\n",
       "      <td>11</td>\n",
       "      <td>76</td>\n",
       "      <td>24</td>\n",
       "      <td>29</td>\n",
       "    </tr>\n",
       "  </tbody>\n",
       "</table>\n",
       "<p>100 rows × 4 columns</p>\n",
       "</div>"
      ],
      "text/plain": [
       "     A   B   C   D\n",
       "0   63  68  35  90\n",
       "1   80  28  66  73\n",
       "2   83  70  28  41\n",
       "3   37  88  23  88\n",
       "4   43  13  89  66\n",
       "..  ..  ..  ..  ..\n",
       "95  95  70  25   8\n",
       "96  65  41  64  96\n",
       "97  14  47  40  24\n",
       "98  98  81  65  66\n",
       "99  11  76  24  29\n",
       "\n",
       "[100 rows x 4 columns]"
      ]
     },
     "execution_count": 6,
     "metadata": {},
     "output_type": "execute_result"
    }
   ],
   "source": [
    "decrypted_dataset = load_encrypted_dataset(encrypted_file='secure.csv.encrypted', decryption_key_path='encryption_key.key')\n",
    "\n",
    "decrypted_dataset"
   ]
  }
 ],
 "metadata": {
  "interpreter": {
   "hash": "c3289e2f5e5a475436903d2d615e93c5c1b03ed41f303116d7d78e2d67bc6512"
  },
  "kernelspec": {
   "display_name": "Nimbus",
   "language": "python",
   "name": "python3"
  },
  "language_info": {
   "codemirror_mode": {
    "name": "ipython",
    "version": 3
   },
   "file_extension": ".py",
   "mimetype": "text/x-python",
   "name": "python",
   "nbconvert_exporter": "python",
   "pygments_lexer": "ipython3",
   "version": "3.6.13"
  }
 },
 "nbformat": 4,
 "nbformat_minor": 5
}
